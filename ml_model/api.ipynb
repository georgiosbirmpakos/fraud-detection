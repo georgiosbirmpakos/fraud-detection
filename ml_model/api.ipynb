{
 "cells": [
  {
   "cell_type": "code",
   "execution_count": null,
   "metadata": {},
   "outputs": [],
   "source": [
    "from fastapi import FastAPI\n",
    "import pickle\n",
    "import numpy as np\n",
    "import os\n",
    "\n",
    "model_path = \"ml_model.pkl\" \n",
    "scaler_path = \"scaler.pkl\"\n",
    "\n",
    "if not os.path.exists(model_path) or not os.path.exists(scaler_path):\n",
    "    raise FileNotFoundError(\"Model or Scaler file not found! Please train the model first.\")\n",
    "\n",
    "with open(model_path, \"rb\") as f:\n",
    "    model = pickle.load(f)\n",
    "with open(scaler_path, \"rb\") as f:\n",
    "    scaler = pickle.load(f)\n",
    "\n",
    "app = FastAPI()\n",
    "\n",
    "@app.post(\"/predict/\")\n",
    "def predict(transaction: dict):\n",
    "    # Extract & scale the transaction features\n",
    "    features = np.array([transaction[\"features\"]]).reshape(1, -1)\n",
    "    features[:, -1] = scaler.transform(features[:, -1].reshape(-1, 1))  # Scale 'Amount'\n",
    "\n",
    "    # Predict fraud probability\n",
    "    prediction = model.predict(features)\n",
    "    return {\"fraud\": int(prediction[0])}\n"
   ]
  }
 ],
 "metadata": {
  "kernelspec": {
   "display_name": "Python 3",
   "language": "python",
   "name": "python3"
  },
  "language_info": {
   "codemirror_mode": {
    "name": "ipython",
    "version": 3
   },
   "file_extension": ".py",
   "mimetype": "text/x-python",
   "name": "python",
   "nbconvert_exporter": "python",
   "pygments_lexer": "ipython3",
   "version": "3.10.0"
  }
 },
 "nbformat": 4,
 "nbformat_minor": 2
}
