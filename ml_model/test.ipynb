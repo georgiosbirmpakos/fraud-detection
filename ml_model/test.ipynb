{
 "cells": [
  {
   "cell_type": "code",
   "execution_count": null,
   "metadata": {},
   "outputs": [
    {
     "name": "stdout",
     "output_type": "stream",
     "text": [
      "{'fraud': 0}\n"
     ]
    }
   ],
   "source": [
    "import requests\n",
    "\n",
    "url = \"http://127.0.0.1:8000/predict/\"\n",
    "headers = {\"Content-Type\": \"application/json\"}\n",
    "\n",
    "# Replace with 29 valid feature values\n",
    "data = {\"features\": [1.5, -2.3, 3.0, 200.0] + [0.0] * 25}  # Padding with 25 zeros\n",
    "\n",
    "response = requests.post(url, json=data)\n",
    "print(response.json())  # Should return fraud prediction"
   ]
  }
 ],
 "metadata": {
  "kernelspec": {
   "display_name": "Python 3",
   "language": "python",
   "name": "python3"
  },
  "language_info": {
   "codemirror_mode": {
    "name": "ipython",
    "version": 3
   },
   "file_extension": ".py",
   "mimetype": "text/x-python",
   "name": "python",
   "nbconvert_exporter": "python",
   "pygments_lexer": "ipython3",
   "version": "3.10.0"
  }
 },
 "nbformat": 4,
 "nbformat_minor": 2
}
